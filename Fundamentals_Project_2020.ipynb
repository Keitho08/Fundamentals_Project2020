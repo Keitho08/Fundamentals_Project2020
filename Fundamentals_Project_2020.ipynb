{
 "cells": [
  {
   "cell_type": "markdown",
   "metadata": {},
   "source": [
    "# Computer Science and Data Analytic's\n",
    "# Fundamentals of Data Analysis \n",
    "# Project 2020\n",
    "## By: Keith Brazill - G00387845\n",
    "\n",
    "*This assignement is submitted as part of the requirements for partial fullfilment of a postgraduate diploma in Computer Science with Data Analytics at Galway Mayo Institute of Technology.*\n",
    "\n",
    "![alt text.](https://learnonline.gmit.ie/pluginfile.php/1/theme_adaptable/logo/1606983803/Transparent%20new.png \"GMIT Logo\")"
   ]
  },
  {
   "cell_type": "markdown",
   "metadata": {},
   "source": [
    "<br>\n",
    "\n",
    "# 1. Introduction\n",
    "\n",
    "This notebook is prepared in response to the brief assigned for the project 2020 in the module of Fundamentals of Data Analysis 2020 as part of the postgraduate diploma in Computer Science with Data Analytics at Galway Mayo Institute of Technology.\n",
    "\n",
    "This notebook is structured as follow's:\n",
    "\n",
    "1. Introduction\n",
    "2. The Project Brief\n",
    "3. The Project Dataset  \n",
    "4. Simple Linear Regression\n",
    "5. Other forms of Regression\n",
    "**Possibly machine learning**\n",
    "6. Conclusion\n",
    "7. References\n",
    "\n",
    "To approach to this project will be firstly to examine the provided dataset via some simple statistical tables and graphs and then carry out simple linear regression on this dataset. Following application of the simple linear regression we will explain, analyse and determine accuracy of our regression. Finally we will review other forms of regression and compare these to our simple linear regression.\n",
    "\n",
    "Throughout the notebook each of the above sections is cleary explained using a combination of code and markdown cells.\n",
    "\n",
    "**Packages used in this project**\n",
    "\n",
    "The following python packages were used in this assignment to carry out the required the project brief:\n",
    "\n",
    "* Python https://www.python.org/downloads/\n",
    "* Numpy http://www.numpy.org/ - The fundamental package for scientific computing with Python.\n",
    "* Jupyter Notebook https://jupyter.org/ - Project Jupyter exists to develop open-source software, open-standards, and services for interactive computing across dozens of programming languages.\n",
    "* matplotlib.pyplot https://matplotlib.org/3.1.1/api/_as_gen/matplotlib.pyplot.html - matplotlib.pyplot is a state-based interface to matplotlib. It provides a MATLAB-like way of plotting. pyplot is mainly intended for interactive plots and simple cases of programmatic plot generation.\n",
    "* seaborn https://seaborn.pydata.org/ - Seaborn is a Python data visualization library based on matplotlib. It provides a high-level interface for drawing attractive and informative statistical graphics.\n",
    "* pandas https://pandas.pydata.org/ - pandas is a fast, powerful, flexible and easy to use open source data analysis and manipulation tool, built on top of the Python programming language"
   ]
  },
  {
   "cell_type": "markdown",
   "metadata": {},
   "source": [
    "<br>\n",
    "\n",
    "# 2. The Project Brief\n",
    "\n",
    "In this project you must perform and explain simple linear regression using Python\n",
    "on the powerproduction dataset available on Moodle. The goal is to accurately predict wind turbine power output from wind speed values using the data set as a basis.\n",
    "\n",
    "Your submission must be in the form of a git repository containing, at a minimum, the\n",
    "following items:\n",
    "\n",
    "1. Jupyter notebook that performs simple linear regression on the data set.\n",
    "2. In that notebook, an explanation of your regression and an analysis of its accuracy.\n",
    "3. Standard items in a git repository such as a README.\n",
    "\n",
    "To enhance your submission, you might consider comparing simple linear regression to\n",
    "other types of regression on this data set. Rest assured, all the above concepts will be\n",
    "explored in lecture videos and other materials in the coming semester."
   ]
  },
  {
   "cell_type": "markdown",
   "metadata": {},
   "source": [
    "<br>\n",
    "\n",
    "# 3. The Project Dataset\n",
    "\n",
    "Before we begin with our regression modelling, it would be good practice to first have a look at our provided dataset and try and understand some of the patterns in the dataset. Let's first begin by reading the provided csv file with pandas below."
   ]
  },
  {
   "cell_type": "code",
   "execution_count": 33,
   "metadata": {},
   "outputs": [
    {
     "data": {
      "text/html": [
       "<div>\n",
       "<style scoped>\n",
       "    .dataframe tbody tr th:only-of-type {\n",
       "        vertical-align: middle;\n",
       "    }\n",
       "\n",
       "    .dataframe tbody tr th {\n",
       "        vertical-align: top;\n",
       "    }\n",
       "\n",
       "    .dataframe thead th {\n",
       "        text-align: right;\n",
       "    }\n",
       "</style>\n",
       "<table border=\"1\" class=\"dataframe\">\n",
       "  <thead>\n",
       "    <tr style=\"text-align: right;\">\n",
       "      <th></th>\n",
       "      <th>speed</th>\n",
       "      <th>power</th>\n",
       "    </tr>\n",
       "  </thead>\n",
       "  <tbody>\n",
       "    <tr>\n",
       "      <th>0</th>\n",
       "      <td>0.000</td>\n",
       "      <td>0.0</td>\n",
       "    </tr>\n",
       "    <tr>\n",
       "      <th>1</th>\n",
       "      <td>0.125</td>\n",
       "      <td>0.0</td>\n",
       "    </tr>\n",
       "    <tr>\n",
       "      <th>2</th>\n",
       "      <td>0.150</td>\n",
       "      <td>0.0</td>\n",
       "    </tr>\n",
       "    <tr>\n",
       "      <th>3</th>\n",
       "      <td>0.225</td>\n",
       "      <td>0.0</td>\n",
       "    </tr>\n",
       "    <tr>\n",
       "      <th>4</th>\n",
       "      <td>0.275</td>\n",
       "      <td>0.0</td>\n",
       "    </tr>\n",
       "    <tr>\n",
       "      <th>...</th>\n",
       "      <td>...</td>\n",
       "      <td>...</td>\n",
       "    </tr>\n",
       "    <tr>\n",
       "      <th>495</th>\n",
       "      <td>24.775</td>\n",
       "      <td>0.0</td>\n",
       "    </tr>\n",
       "    <tr>\n",
       "      <th>496</th>\n",
       "      <td>24.850</td>\n",
       "      <td>0.0</td>\n",
       "    </tr>\n",
       "    <tr>\n",
       "      <th>497</th>\n",
       "      <td>24.875</td>\n",
       "      <td>0.0</td>\n",
       "    </tr>\n",
       "    <tr>\n",
       "      <th>498</th>\n",
       "      <td>24.950</td>\n",
       "      <td>0.0</td>\n",
       "    </tr>\n",
       "    <tr>\n",
       "      <th>499</th>\n",
       "      <td>25.000</td>\n",
       "      <td>0.0</td>\n",
       "    </tr>\n",
       "  </tbody>\n",
       "</table>\n",
       "<p>500 rows × 2 columns</p>\n",
       "</div>"
      ],
      "text/plain": [
       "      speed  power\n",
       "0     0.000    0.0\n",
       "1     0.125    0.0\n",
       "2     0.150    0.0\n",
       "3     0.225    0.0\n",
       "4     0.275    0.0\n",
       "..      ...    ...\n",
       "495  24.775    0.0\n",
       "496  24.850    0.0\n",
       "497  24.875    0.0\n",
       "498  24.950    0.0\n",
       "499  25.000    0.0\n",
       "\n",
       "[500 rows x 2 columns]"
      ]
     },
     "execution_count": 33,
     "metadata": {},
     "output_type": "execute_result"
    }
   ],
   "source": [
    "import pandas as pd # We import pandas so we can read our csv files.\n",
    "import matplotlib.pyplot as plt \n",
    "%matplotlib inline \n",
    "# Make matplotlib show interactive plots in the notebook.\n",
    "\n",
    "powerproduction = pd.read_csv('https://raw.githubusercontent.com/ianmcloughlin/2020A-machstat-project/master/dataset/powerproduction.csv', sep=',')\n",
    "# define powerproduction = pandas read csv file with comma seperated delimiter\n",
    "powerproduction # print out to screen"
   ]
  },
  {
   "cell_type": "code",
   "execution_count": 34,
   "metadata": {},
   "outputs": [
    {
     "data": {
      "text/html": [
       "<div>\n",
       "<style scoped>\n",
       "    .dataframe tbody tr th:only-of-type {\n",
       "        vertical-align: middle;\n",
       "    }\n",
       "\n",
       "    .dataframe tbody tr th {\n",
       "        vertical-align: top;\n",
       "    }\n",
       "\n",
       "    .dataframe thead th {\n",
       "        text-align: right;\n",
       "    }\n",
       "</style>\n",
       "<table border=\"1\" class=\"dataframe\">\n",
       "  <thead>\n",
       "    <tr style=\"text-align: right;\">\n",
       "      <th></th>\n",
       "      <th>speed</th>\n",
       "      <th>power</th>\n",
       "    </tr>\n",
       "  </thead>\n",
       "  <tbody>\n",
       "    <tr>\n",
       "      <th>count</th>\n",
       "      <td>500.000000</td>\n",
       "      <td>500.000000</td>\n",
       "    </tr>\n",
       "    <tr>\n",
       "      <th>mean</th>\n",
       "      <td>12.590398</td>\n",
       "      <td>48.014584</td>\n",
       "    </tr>\n",
       "    <tr>\n",
       "      <th>std</th>\n",
       "      <td>7.224991</td>\n",
       "      <td>41.614572</td>\n",
       "    </tr>\n",
       "    <tr>\n",
       "      <th>min</th>\n",
       "      <td>0.000000</td>\n",
       "      <td>0.000000</td>\n",
       "    </tr>\n",
       "    <tr>\n",
       "      <th>25%</th>\n",
       "      <td>6.324750</td>\n",
       "      <td>5.288000</td>\n",
       "    </tr>\n",
       "    <tr>\n",
       "      <th>50%</th>\n",
       "      <td>12.550500</td>\n",
       "      <td>41.645500</td>\n",
       "    </tr>\n",
       "    <tr>\n",
       "      <th>75%</th>\n",
       "      <td>18.775250</td>\n",
       "      <td>93.537000</td>\n",
       "    </tr>\n",
       "    <tr>\n",
       "      <th>max</th>\n",
       "      <td>25.000000</td>\n",
       "      <td>113.556000</td>\n",
       "    </tr>\n",
       "  </tbody>\n",
       "</table>\n",
       "</div>"
      ],
      "text/plain": [
       "            speed       power\n",
       "count  500.000000  500.000000\n",
       "mean    12.590398   48.014584\n",
       "std      7.224991   41.614572\n",
       "min      0.000000    0.000000\n",
       "25%      6.324750    5.288000\n",
       "50%     12.550500   41.645500\n",
       "75%     18.775250   93.537000\n",
       "max     25.000000  113.556000"
      ]
     },
     "execution_count": 34,
     "metadata": {},
     "output_type": "execute_result"
    }
   ],
   "source": [
    "powerproduction.describe() # prints out a summary of key statistics of dataset"
   ]
  },
  {
   "cell_type": "markdown",
   "metadata": {},
   "source": [
    "We can see from our 2 tables above that there are 500 measurements for speed (wind speed km/h) and power (Output Energy, assume dto be kWh) corresponding to the wind speed. The mean wind speed is 12.5 km/h and the mean power is 48 kWh. Our minimum wind speed is 0  and max is 25. Our minimum power is 0 and maximum is 113. We have a standard deviation of ~7.22 on wind speed and ~41.61 on our power.\n",
    "\n",
    "Wind power is generated by the force wind exerts on the blades of a turbine, causing the turbine's shaft to rotate at a speed of 10 to 20 revolutions per minute (rpm). The rotor shaft is connected to a generator that converts mechanical energy into electrical energy.\n",
    "\n",
    "Following research online at;\n",
    "* http://www.hydroquebec.com/learning/eolienne/#:~:text=Wind%20turbines%20require%3A,be%20stopped%20to%20avoid%20damagethe \n",
    "\n",
    "We found out the energy produced from a wind turbine is primarily affected by wind speed. Also, the minimum wind speed required for a wind turbine to start turning and generating electricity is 12-14 km/h. It was also noted that at high wind speeds the wind turbine can shut off to prevent damage to the turbine.\n",
    "\n",
    "Following production of our tables above and some research, lets now visualise our data set in a scatter plot using code below."
   ]
  },
  {
   "cell_type": "code",
   "execution_count": 37,
   "metadata": {},
   "outputs": [
    {
     "data": {
      "text/plain": [
       "Text(0.5, 1.0, 'Wind Energy')"
      ]
     },
     "execution_count": 37,
     "metadata": {},
     "output_type": "execute_result"
    },
    {
     "data": {
      "image/png": "[encoded data removed]",
      "text/plain": [
       "<Figure size 1296x576 with 1 Axes>"
      ]
     },
     "metadata": {},
     "output_type": "display_data"
    }
   ],
   "source": [
    "import matplotlib.pyplot as plt # imports matplotlib.pyplot as plt\n",
    "import seaborn as sns # imports seaborn as sns\n",
    "plt.rcParams[\"figure.figsize\"] = (18,8) #sets the plots size\n",
    "sns.set_theme(style=\"ticks\") # user preferred style for sns plots\n",
    "\n",
    "WindEnergy = sns.scatterplot(x=\"speed\", y=\"power\", data=powerproduction[0:], color='r')\n",
    "# Creates a scatterplot with x, y and data inputs from row 0, color red. \n",
    "plt.title('Wind Energy', fontsize=20) # plots title with user defined fontsize"
   ]
  },
  {
   "cell_type": "code",
   "execution_count": 30,
   "metadata": {},
   "outputs": [
    {
     "data": {
      "text/plain": [
       "<seaborn.axisgrid.FacetGrid at 0x1fdc69cc490>"
      ]
     },
     "execution_count": 30,
     "metadata": {},
     "output_type": "execute_result"
    },
    {
     "data": {
      "image/png": "[encoded data removed]",
      "text/plain": [
       "<Figure size 360x360 with 1 Axes>"
      ]
     },
     "metadata": {},
     "output_type": "display_data"
    }
   ],
   "source": [
    "sns.set_context(\"poster\", font_scale = .5, rc={\"grid.linewidth\": 0.6})\n",
    "# changes the size of the text using the font_scale parameter for sns.set_context()\n",
    "# to also change the line width so it matches. We do this with the rc parameter\n",
    "\n",
    "WindEnergyDisplot = sns.displot(powerproduction, x=\"speed\", y=\"power\", binwidth=3)\n",
    "# Creates a displot using seaborn with data, x, y inputs and binwidth set to 3 to group figures\n",
    "WindEnergyDisplot # prints to screen"
   ]
  },
  {
   "cell_type": "markdown",
   "metadata": {},
   "source": [
    "We can see from out output scatter and displot that the power output is generally low until it reaches around 12km/h (or close to mean wind speed) and then it keeps rising until it hits maximum output at about 90kWh withint he wind speeds range from ~17km/h to ~25km/h. It is also noted that at the maximum wind speed there are a number of 0 measurements for power, this seems to relate to our research and that the wind turbine has cut out for safety reasons. There are also a number of outliers on the lower end of the scale, this may relate to other technical reasons the turbine may have cut out or perhaps due to changes in wind direction. \n",
    "\n",
    "Having imported and briefly analysed our dataset, we are now ready to move onto our next task and apply simple linear regression to the dataset."
   ]
  },
  {
   "cell_type": "markdown",
   "metadata": {},
   "source": [
    "<br>\n",
    "\n",
    "# 3. Simple Linear Regression\n",
    "\n"
   ]
  },
  {
   "cell_type": "markdown",
   "metadata": {},
   "source": [
    "\n",
    "\n",
    "\n",
    "numpy.polyfit for coeffs\n",
    "\n",
    "coeffs = np.polyfit(DailyCovidCases, DailyEnergy2020, 1) # we want coefficient for y-x relationship at value 1 in the data\n",
    "coeffs # displays coefficient array below\n",
    "\n",
    "The output for the coefficients are -5.76440416e-03, 6.92192099e+01. Knowing the x coefficients allows the y values to be calculated if we say:\n",
    "\n",
    "a = -5.76440416e-03\n",
    "b = 6.92192099e+01\n",
    "and use the formula:\n",
    "\n",
    "𝑦=𝑎∗𝑥+𝑏 \n",
    "Having presented our real life data and briefly summarised key statistics of the datasets, we will now look to create our synthesised datasets based on our real life data."
   ]
  },
  {
   "cell_type": "code",
   "execution_count": null,
   "metadata": {},
   "outputs": [],
   "source": []
  },
  {
   "cell_type": "code",
   "execution_count": null,
   "metadata": {},
   "outputs": [],
   "source": []
  },
  {
   "cell_type": "code",
   "execution_count": null,
   "metadata": {},
   "outputs": [],
   "source": []
  },
  {
   "cell_type": "code",
   "execution_count": null,
   "metadata": {},
   "outputs": [],
   "source": []
  },
  {
   "cell_type": "code",
   "execution_count": null,
   "metadata": {},
   "outputs": [],
   "source": []
  },
  {
   "cell_type": "code",
   "execution_count": null,
   "metadata": {},
   "outputs": [],
   "source": []
  },
  {
   "cell_type": "code",
   "execution_count": null,
   "metadata": {},
   "outputs": [],
   "source": []
  },
  {
   "cell_type": "markdown",
   "metadata": {},
   "source": [
    "# References\n",
    "\n",
    "http://www.hydroquebec.com/learning/eolienne/#:~:text=Wind%20turbines%20require%3A,be%20stopped%20to%20avoid%20damage\n",
    "https://seaborn.pydata.org/tutorial/distributions.html\n",
    "https://www.codecademy.com/articles/seaborn-design-i#:~:text=Seaborn%20has%20five%20built%2Din,name%20of%20it%20to%20sns.\n"
   ]
  }
 ],
 "metadata": {
  "kernelspec": {
   "display_name": "Python 3",
   "language": "python",
   "name": "python3"
  },
  "language_info": {
   "codemirror_mode": {
    "name": "ipython",
    "version": 3
   },
   "file_extension": ".py",
   "mimetype": "text/x-python",
   "name": "python",
   "nbconvert_exporter": "python",
   "pygments_lexer": "ipython3",
   "version": "3.8.5"
  }
 },
 "nbformat": 4,
 "nbformat_minor": 4
}
